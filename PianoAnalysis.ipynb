{
 "cells": [
  {
   "cell_type": "code",
   "execution_count": 2,
   "metadata": {},
   "outputs": [
    {
     "name": "stdout",
     "output_type": "stream",
     "text": [
      "220 Counter({60: 22, 57: 21, 62: 21, 64: 19, 55: 18, 59: 18, 52: 16, 65: 14, 50: 13, 67: 10, 54: 8, 48: 7, 53: 6, 69: 5, 43: 4, 47: 4, 58: 4, 45: 3, 70: 2, 56: 2, 38: 1, 61: 1, 36: 1})\n",
      "254 Counter({72: 35, 74: 31, 71: 29, 76: 26, 69: 23, 77: 23, 79: 21, 67: 17, 81: 10, 66: 8, 64: 7, 62: 4, 68: 4, 65: 3, 73: 3, 83: 3, 60: 2, 84: 2, 70: 2, 80: 1})\n",
      "474 Counter({72: 35, 74: 31, 71: 29, 69: 28, 67: 27, 64: 26, 76: 26, 62: 25, 60: 24, 77: 23, 57: 21, 79: 21, 55: 18, 59: 18, 65: 17, 52: 16, 50: 13, 81: 10, 54: 8, 66: 8, 48: 7, 53: 6, 43: 4, 47: 4, 70: 4, 58: 4, 68: 4, 45: 3, 73: 3, 83: 3, 56: 2, 84: 2, 38: 1, 61: 1, 36: 1, 80: 1})\n",
      "OrderedDict([('D', 70), ('G', 70), ('C', 69), ('E', 68), ('A', 62), ('B', 54), ('F', 46), ('F#', 16), ('A#', 8), ('G#', 7), ('C#', 4)])\n",
      "OrderedDict([('2M', 188), ('2m', 109), ('3m', 75), ('3M', 29), ('4J', 19), ('5J', 16), ('8va', 10), ('Unisono', 7), ('6m', 6), ('7m', 5), ('6M', 4), ('4A', 2), ('12J', 1), ('9M', 1)])\n"
     ]
    },
    {
     "data": {
      "image/png": "[encoded data removed]",
      "text/plain": [
       "<Figure size 432x288 with 3 Axes>"
      ]
     },
     "metadata": {
      "needs_background": "light"
     },
     "output_type": "display_data"
    }
   ],
   "source": [
    "import mido\n",
    "import matplotlib.pyplot as plt\n",
    "from collections import Counter, OrderedDict\n",
    "\n",
    "mid = mido.MidiFile(\"bwv772.mid\")\n",
    "manoL = mid.tracks[2]\n",
    "manoR = mid.tracks[1]\n",
    "nName = ['C', 'C#', 'D', 'D#', 'E', 'F', 'F#', 'G', 'G#', 'A', 'A#', 'B']\n",
    "iName = ['Unisono','2m', '2M', '3m', '3M', '4J', '4A', '5J', '6m', '6M', '7m', '7M', '8va', '9am', '9M', '10m', '10M', '11J', '11A', '12J']\n",
    "\n",
    "#//////NotasMano Izquierda\n",
    "ntL = []\n",
    "for notaL in manoL:\n",
    "    if notaL.type == 'note_on' and notaL.velocity > 0:\n",
    "        ntL.append(notaL.note)\n",
    "vecesntL = Counter(ntL)\n",
    "print(len(ntL), vecesntL)\n",
    "\n",
    "#//////Notas Mano Derecha\n",
    "ntR = []\n",
    "for notaR in manoR:\n",
    "    if notaR.type == 'note_on' and notaR.velocity > 0:\n",
    "        ntR.append(notaR.note)\n",
    "vecesntR = Counter(ntR)\n",
    "print(len(ntR), vecesntR)\n",
    "\n",
    "#//////Suma de Manos\n",
    "ntAll = ntL + ntR\n",
    "vecesntAll = Counter(ntAll)\n",
    "print(len(ntAll), vecesntAll)\n",
    "\n",
    "#//////Orden Ascendente de Tonos Clase\n",
    "fMn1 = []\n",
    "ntAll.sort()\n",
    "for i in ntAll:\n",
    "    indexnote = nName[i % 12]\n",
    "    vMn1 = str(indexnote)\n",
    "    fMn1.append(vMn1)\n",
    "ntAllOneName = Counter(fMn1)\n",
    "ntAllOneNameOr = OrderedDict(ntAllOneName.most_common())\n",
    "print(ntAllOneNameOr)\n",
    "\n",
    "#//////NotasSinRepeticiones y aX1 labels\n",
    "ntAllOne = list(dict.fromkeys(ntAll))\n",
    "\n",
    "#//////Numero MIDI a NotayOctava\n",
    "fMn2 = []\n",
    "for i in ntAllOne:\n",
    "    indexnote = nName[i % 12]\n",
    "    indexoct = round((i / 12) -1)\n",
    "    vMn2 = str(indexnote) + str(indexoct)\n",
    "    fMn2.append(vMn2)\n",
    "\n",
    "#//////Intervalos\n",
    "iManoL = [j-i for i, j in zip(ntL[:-1], ntL[1:])]\n",
    "iManoR = [j-i for i, j in zip(ntR[:-1], ntR[1:])]\n",
    "intTL = [abs(n) for n in iManoL]\n",
    "intTR = [abs(n) for n in iManoR]\n",
    "intTNL = []\n",
    "for i in intTL:\n",
    "    intTNL.append(iName[i])\n",
    "intTNR = []\n",
    "for i in intTR:\n",
    "    intTNR.append(iName[i])\n",
    "intTN = intTNL + intTNR\n",
    "iTO = Counter(intTN)\n",
    "iTOO = OrderedDict(iTO.most_common())\n",
    "print(iTOO)\n",
    "\n",
    "#//////Graficar\n",
    "f, (ax1, ax2, ax3) = plt.subplots(3)\n",
    "f.suptitle(\"J. S. Bach: Invención nº 1 en Do Mayor BWV 772\", fontsize=10)\n",
    "f.tight_layout()\n",
    "\n",
    "ax1.set_title('Ocurrencia de Notas', fontsize=8, loc='left')\n",
    "ax1.bar(*zip(*vecesntL.items()), label=\"ManoL\", color='red', alpha=0.3)\n",
    "ax1.bar(*zip(*vecesntR.items()), label=\"ManoR\", color='green', alpha=0.3)\n",
    "ax1.bar(*zip(*vecesntAll.items()), label=\"Suma\", color='yellow', alpha=0.3)\n",
    "ax1.set_xticks(ticks=ntAllOne, labels=fMn2, fontsize=6)\n",
    "ax1.legend(loc='upper right', prop={'size': 6})\n",
    "\n",
    "ax2.set_title('Ocurrencia de Tonos Clase', fontsize=8, loc='left')\n",
    "ax2.bar(*zip(*ntAllOneNameOr.items()),label=\"Notas\", color='blue', alpha=0.3)\n",
    "ax2.legend(loc='upper right', prop={'size': 6})\n",
    "ax2.xaxis.set_tick_params(labelsize=6)\n",
    "\n",
    "ax3.set_title('Ocurrencia de Intervalos', fontsize=8, loc='left')\n",
    "ax3.bar(*zip(*iTOO.items()),label=\"Intervalos\", color='magenta', alpha=0.25)\n",
    "ax3.legend(loc='upper right', prop={'size': 6})\n",
    "ax3.xaxis.set_tick_params(labelsize=6)\n",
    "\n",
    "plt.show()\n"
   ]
  }
 ],
 "metadata": {
  "interpreter": {
   "hash": "b760614c986f2cc86ced47e2ef65c2ba05d099c51b3adc48a98f6ced74568e93"
  },
  "kernelspec": {
   "display_name": "Python 3.10.4 64-bit",
   "language": "python",
   "name": "python3"
  },
  "language_info": {
   "codemirror_mode": {
    "name": "ipython",
    "version": 3
   },
   "file_extension": ".py",
   "mimetype": "text/x-python",
   "name": "python",
   "nbconvert_exporter": "python",
   "pygments_lexer": "ipython3",
   "version": "3.10.4"
  },
  "orig_nbformat": 4
 },
 "nbformat": 4,
 "nbformat_minor": 2
}
